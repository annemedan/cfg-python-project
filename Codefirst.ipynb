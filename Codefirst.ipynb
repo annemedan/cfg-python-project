{
 "cells": [
  {
   "cell_type": "code",
   "execution_count": 1,
   "metadata": {},
   "outputs": [],
   "source": [
    "import pandas as pd\n",
    "import seaborn as sns\n",
    "import matplotlib as plt\n",
    "import csv"
   ]
  },
  {
   "cell_type": "code",
   "execution_count": 85,
   "metadata": {
    "scrolled": true
   },
   "outputs": [
    {
     "name": "stdout",
     "output_type": "stream",
     "text": [
      "Sales Dictionary\n",
      "{'year': '2018', 'month': 'jan', 'sales': '6226', 'expenditure': '3808'}\n",
      "{'year': '2018', 'month': 'feb', 'sales': '1521', 'expenditure': '3373'}\n",
      "{'year': '2018', 'month': 'mar', 'sales': '1842', 'expenditure': '3965'}\n",
      "{'year': '2018', 'month': 'apr', 'sales': '2051', 'expenditure': '1098'}\n",
      "{'year': '2018', 'month': 'may', 'sales': '1728', 'expenditure': '3046'}\n",
      "{'year': '2018', 'month': 'jun', 'sales': '2138', 'expenditure': '2258'}\n",
      "{'year': '2018', 'month': 'jul', 'sales': '7479', 'expenditure': '2084'}\n",
      "{'year': '2018', 'month': 'aug', 'sales': '4434', 'expenditure': '2799'}\n",
      "{'year': '2018', 'month': 'sep', 'sales': '3615', 'expenditure': '1649'}\n",
      "{'year': '2018', 'month': 'oct', 'sales': '5472', 'expenditure': '1116'}\n",
      "{'year': '2018', 'month': 'nov', 'sales': '7224', 'expenditure': '1431'}\n",
      "{'year': '2018', 'month': 'dec', 'sales': '1812', 'expenditure': '3532'}\n"
     ]
    }
   ],
   "source": [
    "print(\"Sales Dictionary\")\n",
    "\n",
    "with open('sales.csv', 'r') as csv_file:\n",
    "    spreadsheet = csv.DictReader(csv_file)\n",
    "    \n",
    "    for row in spreadsheet:\n",
    "        print(dict(row))"
   ]
  },
  {
   "cell_type": "code",
   "execution_count": 86,
   "metadata": {},
   "outputs": [
    {
     "name": "stdout",
     "output_type": "stream",
     "text": [
      "Sales Monthly\n",
      "['6226', '1521', '1842', '2051', '1728', '2138', '7479', '4434', '3615', '5472', '7224', '1812']\n"
     ]
    }
   ],
   "source": [
    "with open('sales.csv', 'r') as csv_file:\n",
    "    spreadsheet = csv.DictReader(csv_file)\n",
    "    \n",
    "    sales = []\n",
    "\n",
    "    for row in spreadsheet:\n",
    "        sales_value = row['sales']\n",
    "        sales.append(sales_value)\n",
    "    \n",
    "    print(\"Sales Monthly\")   \n",
    "    print(sales)"
   ]
  },
  {
   "cell_type": "code",
   "execution_count": 95,
   "metadata": {},
   "outputs": [
    {
     "name": "stdout",
     "output_type": "stream",
     "text": [
      "Sales Total\n",
      "45542\n",
      "Sales Average\n",
      "3795.1666666666665\n"
     ]
    }
   ],
   "source": [
    "with open('sales.csv', 'r') as csv_file:\n",
    "    spreadsheet = csv.DictReader(csv_file)\n",
    "\n",
    "    sales = []\n",
    "\n",
    "    for row in spreadsheet:\n",
    "        month_sales = int(row['sales'])\n",
    "        sales.append(month_sales)\n",
    "        \n",
    "sum_sales = sum(sales)\n",
    "cont_sales = len(sales)\n",
    "\n",
    "print(\"Sales Total\")   \n",
    "print(sum_sales)\n",
    "\n",
    "print(\"Sales Average\")\n",
    "print(sum_sales / cont_sales)"
   ]
  },
  {
   "cell_type": "code",
   "execution_count": 89,
   "metadata": {},
   "outputs": [
    {
     "name": "stdout",
     "output_type": "stream",
     "text": [
      "Sales Monthly changes as a percentage\n",
      "[24.429810472213298, 121.10453648915187, 111.34636264929425, 84.25158459288153, 123.72685185185186, 349.8129092609916, 59.286000802246285, 81.52909336941813, 151.36929460580913, 132.01754385964912, 25.083056478405314]\n"
     ]
    }
   ],
   "source": [
    "with open('sales.csv', 'r') as csv_file:\n",
    "    spreadsheet = csv.DictReader(csv_file)\n",
    "       \n",
    "    percent = []\n",
    "    \n",
    "    for n in range(11):\n",
    "        perc = sales[1 + n] / sales[0 + n] * 100\n",
    "        percent.append(perc)\n",
    "        \n",
    "print(\"Sales Monthly changes as a percentage\") \n",
    "print(percent)"
   ]
  },
  {
   "cell_type": "code",
   "execution_count": 94,
   "metadata": {},
   "outputs": [
    {
     "name": "stdout",
     "output_type": "stream",
     "text": [
      "Lowest Sales\n",
      "1521\n",
      "Highest Sales\n",
      "7479\n"
     ]
    }
   ],
   "source": [
    "with open('sales.csv', 'r') as csv_file:\n",
    "    spreadsheet = csv.DictReader(csv_file)\n",
    "    \n",
    "    sales = []\n",
    "\n",
    "    for row in spreadsheet:\n",
    "        month_sales = int(row['sales'])\n",
    "        sales.append(month_sales)\n",
    "        \n",
    "lowest_sales = min(sales)\n",
    "highest_sales = max(sales)\n",
    "\n",
    "print(\"Lowest Sales\")\n",
    "print(lowest_sales)\n",
    "\n",
    "print(\"Highest Sales\")\n",
    "print(highest_sales)"
   ]
  },
  {
   "cell_type": "code",
   "execution_count": 98,
   "metadata": {},
   "outputs": [],
   "source": [
    "keys = [\"Lowest Sales\", \"Highest Sales\", \"Sales Average\", \"Sales Total\"]\n",
    "\n",
    "data = [{\"Lowest Sales\":  lowest_sales},\n",
    "         {\"Highest Sales\": highest_sales},\n",
    "         {\"Sales Average\": sum_sales / cont_sales },\n",
    "         {\"Sales Total\": sum_sales}\n",
    "]\n",
    "\n",
    "with open('result.csv', 'w+') as csv_file:\n",
    "    spreadsheet = csv.DictWriter(csv_file, fieldnames=keys)\n",
    "    spreadsheet.writeheader()\n",
    "    spreadsheet.writerows(data)"
   ]
  },
  {
   "cell_type": "code",
   "execution_count": 33,
   "metadata": {},
   "outputs": [
    {
     "data": {
      "image/png": "[encoded data removed]",
      "text/plain": [
       "<Figure size 432x288 with 1 Axes>"
      ]
     },
     "metadata": {
      "needs_background": "light"
     },
     "output_type": "display_data"
    }
   ],
   "source": [
    "chart = sns.barplot(x=\"month\", y=\"sales\", data=sales)"
   ]
  },
  {
   "cell_type": "code",
   "execution_count": null,
   "metadata": {},
   "outputs": [],
   "source": []
  }
 ],
 "metadata": {
  "kernelspec": {
   "display_name": "Python 3",
   "language": "python",
   "name": "python3"
  },
  "language_info": {
   "codemirror_mode": {
    "name": "ipython",
    "version": 3
   },
   "file_extension": ".py",
   "mimetype": "text/x-python",
   "name": "python",
   "nbconvert_exporter": "python",
   "pygments_lexer": "ipython3",
   "version": "3.7.6"
  }
 },
 "nbformat": 4,
 "nbformat_minor": 4
}
